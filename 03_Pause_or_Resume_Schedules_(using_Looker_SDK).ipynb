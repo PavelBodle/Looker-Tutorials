{
  "nbformat": 4,
  "nbformat_minor": 0,
  "metadata": {
    "colab": {
      "name": "03_Pause_or_Resume_Schedules_(using_Looker SDK).ipynb",
      "provenance": [],
      "collapsed_sections": [],
      "toc_visible": true,
      "include_colab_link": true
    },
    "kernelspec": {
      "display_name": "Python 3",
      "name": "python3"
    }
  },
  "cells": [
    {
      "cell_type": "markdown",
      "metadata": {
        "id": "view-in-github",
        "colab_type": "text"
      },
      "source": [
        "<a href=\"https://colab.research.google.com/github/lanlooker/Looker-Tutorials/blob/main/03_Pause_or_Resume_Schedules_(using_Looker_SDK).ipynb\" target=\"_parent\"><img src=\"https://colab.research.google.com/assets/colab-badge.svg\" alt=\"Open In Colab\"/></a>"
      ]
    },
    {
      "cell_type": "markdown",
      "metadata": {
        "id": "Alt4MxZ1QuRj"
      },
      "source": [
        "**Purpose**: This script pauses or resumes all schedules for a specific Look. To pause or resume schedules of User-Defined Dashboards (UDD) or LookML Dashboards, change the endpoints as described in the script comments. \n",
        "\n",
        "Please click \"Open in Colab\" to run the script as a one-off task. You can also download the file as a .py file to run inside a server (refer to [this page ](https://github.com/looker-open-source/sdk-codegen/blob/main/README.md#configuring-lookerini-or-env\n",
        ") to learn about the init file) \n",
        "\n",
        "**How to run as a one-off task in Google Colab**: \n",
        "1. Edit your client ID and secret key in the first cell \n",
        "2. Run the remaining cells to call functions. \n",
        "\n",
        "**Note**: The script is out of scope for Looker chat support. For questions and comments, please post in Looker Community. \n"
      ]
    },
    {
      "cell_type": "code",
      "metadata": {
        "id": "y883XC0TpzRa"
      },
      "source": [
        "# Install Looker SDK\n",
        "!pip install looker_sdk\n",
        "import looker_sdk\n",
        "from looker_sdk import models40 #using Looker 4.0\n",
        "import os\n",
        "\n",
        "# Environmental variables to login \n",
        "os.environ['LOOKERSDK_BASE_URL'] = 'XXX'\n",
        "os.environ['LOOKERSDK_CLIENT_ID'] = 'YYY'\n",
        "os.environ['LOOKERSDK_CLIENT_SECRET'] = 'ZZZ'\n",
        "\n",
        "\n",
        "sdk = looker_sdk.init40() "
      ],
      "execution_count": null,
      "outputs": []
    },
    {
      "cell_type": "code",
      "metadata": {
        "id": "yQk9RXssbJrj"
      },
      "source": [
        "def update_schedule(look_id = 321, enabled = True):\n",
        "\n",
        "  \"\"\" \n",
        "  Args: \n",
        "    look_id (int): id of a look\n",
        "    enabled (boolean): set to \"True\" to resume schedule, and \"False\" to pause schedule\n",
        "  \n",
        "  Notes: Schedules with \"enabled = False\" will disappear from Admin > Schedules but its data \n",
        "  can be retrived in System Activity. Once schedules are resumed with \"enabled = True\", they \n",
        "  will reappear in Admin > Schedules  \n",
        "  \"\"\"\n",
        "  \n",
        "  \"\"\" Change to `sdk.scheduled_plans_for_dashboard` or `sdk.scheduled_plans_for_lookml_dashboard` \n",
        "  to retrieve schedule_plan_id for these two type of contents if needed\"\"\"\n",
        "  contents = sdk.scheduled_plans_for_look(look_id, all_users=True)  \n",
        "    \n",
        "  for i in range(0, len(contents)):\n",
        "    sdk.update_scheduled_plan(\n",
        "    scheduled_plan_id=contents[i]['id'],\n",
        "    body=models40.WriteScheduledPlan(\n",
        "        enabled = enabled\n",
        "    ))\n",
        "\n",
        "  print(\"Successfully updated all schedules for look id \" + str(look_id))"
      ],
      "execution_count": null,
      "outputs": []
    },
    {
      "cell_type": "code",
      "metadata": {
        "colab": {
          "base_uri": "https://localhost:8080/"
        },
        "id": "7LgY19a5JadY",
        "outputId": "15134cd6-086e-447e-8d9f-f843ae0520bd"
      },
      "source": [
        "update_schedule(look_id = 123 , enabled = False)"
      ],
      "execution_count": null,
      "outputs": [
        {
          "output_type": "stream",
          "text": [
            "Successfully updated all schedules for look id 123\n"
          ],
          "name": "stdout"
        }
      ]
    }
  ]
}