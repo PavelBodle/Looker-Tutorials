{
  "nbformat": 4,
  "nbformat_minor": 0,
  "metadata": {
    "colab": {
      "name": "Kill Running Queries.ipynb",
      "provenance": [],
      "collapsed_sections": [],
      "toc_visible": true,
      "include_colab_link": true
    },
    "kernelspec": {
      "display_name": "Python 3",
      "name": "python3"
    }
  },
  "cells": [
    {
      "cell_type": "markdown",
      "metadata": {
        "id": "view-in-github",
        "colab_type": "text"
      },
      "source": [
        "<a href=\"https://colab.research.google.com/github/lanlooker/Looker-Tutorials/blob/main/Kill_Running_Queries.ipynb\" target=\"_parent\"><img src=\"https://colab.research.google.com/assets/colab-badge.svg\" alt=\"Open In Colab\"/></a>"
      ]
    },
    {
      "cell_type": "markdown",
      "metadata": {
        "id": "U9XdoaB6bKn_"
      },
      "source": [
        "**Purpose**: This script kills all running queries in a Looker instance. Please click \"Open in Colab\" to run the script as a one-off task. You can also download the file as a .py file to run inside a server (refer to [this page](https://github.com/looker-open-source/sdk-codegen/blob/main/README.md#configuring-lookerini-or-env) to learn about the init file)\n",
        "\n",
        "**How to run as a one-off task in Google Colab**:\n",
        "- Edit your client ID and secret key in the first cell\n",
        "- Run the remaining cells to call functions\n",
        "\n",
        "**Note:** The script was written by Lan, and it has only been tested in a limited capacity. Please read through the comments and adjust additional logic if needed. I will not take any responsibilities if something goes wrong. "
      ]
    },
    {
      "cell_type": "code",
      "metadata": {
        "id": "yQk9RXssbJrj"
      },
      "source": [
        "# Install Looker SDK\n",
        "!pip install looker_sdk\n",
        "import looker_sdk\n",
        "import os\n",
        "\n",
        "# # Environment to log in - using Lan's credential\n",
        "os.environ['LOOKERSDK_BASE_URL'] = 'https://company.looker.com:19999'\n",
        "os.environ['LOOKERSDK_CLIENT_ID'] = 'foo'\n",
        "os.environ['LOOKERSDK_CLIENT_SECRET'] = 'bar'\n",
        "\n",
        "#Initialize the SDK\n",
        "sdk = looker_sdk.init40()  \n",
        "my_user = sdk.me() \n",
        "print(my_user[\"first_name\"] + \" has logged in\")"
      ],
      "execution_count": null,
      "outputs": []
    },
    {
      "cell_type": "markdown",
      "metadata": {
        "id": "JDiaChYCB17t"
      },
      "source": [
        "# Kill All Queries "
      ]
    },
    {
      "cell_type": "code",
      "metadata": {
        "id": "B0Ud6tTlOofz"
      },
      "source": [
        "'Get all running queries in the instance'\n",
        "queries = sdk.all_running_queries() \n",
        "\n",
        "\"\"\"Kill all running queries (source = merge_query). \n",
        "Admin > Queries would show \"Status: Error\" and \"Message: Query task d2839 results not found in cache\n",
        "\"\"\"\n",
        "for i in range(0, len(queries)):   \n",
        "  if queries[i]['source'] == 'merge_query': \n",
        "    print(queries[i]['query_task_id'])\n",
        "    sdk.kill_query(queries[i]['query_task_id'])"
      ],
      "execution_count": null,
      "outputs": []
    }
  ]
}