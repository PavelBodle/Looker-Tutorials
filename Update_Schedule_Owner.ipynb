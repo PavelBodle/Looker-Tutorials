{
  "nbformat": 4,
  "nbformat_minor": 0,
  "metadata": {
    "colab": {
      "name": "Update_Owner_Schedules.ipynb",
      "provenance": [],
      "authorship_tag": "ABX9TyMJaa0fm0baFT9UuGCFvkU4",
      "include_colab_link": true
    },
    "kernelspec": {
      "name": "python3",
      "display_name": "Python 3"
    },
    "language_info": {
      "name": "python"
    }
  },
  "cells": [
    {
      "cell_type": "markdown",
      "metadata": {
        "id": "view-in-github",
        "colab_type": "text"
      },
      "source": [
        "<a href=\"https://colab.research.google.com/github/lanlooker/Looker-Tutorials/blob/main/Update_Schedule_Owner.ipynb\" target=\"_parent\"><img src=\"https://colab.research.google.com/assets/colab-badge.svg\" alt=\"Open In Colab\"/></a>"
      ]
    },
    {
      "cell_type": "markdown",
      "metadata": {
        "id": "8hWPOx14cixx"
      },
      "source": [
        "**Purpose**: This script is used to transfer all schedules of an user to a new owner. The script may may come handy when a user leaves an organization, and Looker admins have to re-assign all of their exisiting schedules to a new owner before deactivating their account \n",
        "\n",
        "**Note**: This script can be run directly in Google Colab or any similar Jupyter notebooks. The script is out of scope for Looker chat support, please direct all of your questions and comments to Lan. \n",
        "\n",
        "**How to use**: Run the first cell to import sdk and load the function, then run the second cell to revoke the scripts\n"
      ]
    },
    {
      "cell_type": "code",
      "metadata": {
        "id": "OespzMFuZsYO"
      },
      "source": [
        "# Install Looker SDK\n",
        "!pip install looker_sdk\n",
        "import looker_sdk\n",
        "import os\n",
        "import json\n",
        "\n",
        "# Login \n",
        "os.environ['LOOKERSDK_BASE_URL'] = 'XXX'\n",
        "os.environ['LOOKERSDK_CLIENT_ID'] = 'YYY'\n",
        "os.environ['LOOKERSDK_CLIENT_SECRET'] = 'ZZZ'\n",
        "\n",
        "#Initialize the SDK\n",
        "sdk = looker_sdk.init31()  # or init40() for v4.0 API \n",
        "\n",
        "\n",
        "# Return the user id of by looking up email\n",
        "def find_user_id(email: str):\n",
        "  user_id = sdk.search_users(email=email)\n",
        "  if len(user_id) == 0:\n",
        "    return 'There is no user associated with this email'\n",
        "  else:\n",
        "    return user_id[0]['id']\n",
        "  \n",
        "# Return all schedules of a particular user id\n",
        "def find_schedules(user_id: int):\n",
        "  result = {}\n",
        "  schedule_plans = sdk.all_scheduled_plans(user_id=user_id)\n",
        "  for i in schedule_plans:\n",
        "    result[i['name']] = i['id']\n",
        "  return result\n",
        "\n",
        "\n",
        "# Transfer all schedules of a user to a new user.  \n",
        "# If additional condition is needed, please adjust in the loop for sdk.update_schedule_plan() \n",
        "\n",
        "def update_owner(current_owner_email: str, new_owner_email: str):\n",
        "  current_owner_id = find_user_id(current_owner_email)\n",
        "  new_owner_id = find_user_id(new_owner_email)  \n",
        "  \n",
        "  if type(new_owner_id) != int and type(new_owner_id) != int:\n",
        "    return \"The email addresses for both the current owner and the new owner are not associatd with any Looker user id\"\n",
        "\n",
        "  elif type(current_owner_id) != int: \n",
        "    return \"The email address for the current owner is not associated with any Looker user id\"\n",
        "\n",
        "  elif type(new_owner_id) != int:\n",
        "    return \"The email address for the new owner is not associated with any Looker user id\"\n",
        "\n",
        "  else: \n",
        "    body = {}\n",
        "    body['user_id'] = new_owner_id\n",
        "    find = find_schedules(current_owner_id) \n",
        "    for i in find.values(): \n",
        "        sdk.update_scheduled_plan(i,body)\n",
        "\n",
        "    if find == find_schedules(new_owner_id) and find_schedules(current_owner_id) == {}: \n",
        "\n",
        "      result = \"Successfully transfer the following schedules from \" + current_owner_email + \" to \" + new_owner_email + \"\\n\"\n",
        "      print(result)\n",
        "      for i in find: \n",
        "        print(i)\n",
        "      return None\n",
        "      \n",
        "    else: \n",
        "      return \"Something goes wrong, please check if email is correct or if the user has any schedules.\""
      ],
      "execution_count": null,
      "outputs": []
    },
    {
      "cell_type": "code",
      "metadata": {
        "id": "e7JG2Iv8ai_-"
      },
      "source": [
        "# update_owner('current_owner_email', 'new_owner_email') # The email addresses have to be associated with exisiting Looker users \n",
        "# update_owner('foo@looker.com', 'bar@looker.com')\n",
        "\n",
        "update_owner()"
      ],
      "execution_count": null,
      "outputs": []
    }
  ]
}