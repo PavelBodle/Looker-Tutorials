{
  "nbformat": 4,
  "nbformat_minor": 0,
  "metadata": {
    "colab": {
      "name": "01_Transfer_All_Schedules.ipynb",
      "provenance": [],
      "collapsed_sections": [],
      "authorship_tag": "ABX9TyM7nCHRqdZ6lOj+ONBCD7Un",
      "include_colab_link": true
    },
    "kernelspec": {
      "name": "python3",
      "display_name": "Python 3"
    },
    "language_info": {
      "name": "python"
    }
  },
  "cells": [
    {
      "cell_type": "markdown",
      "metadata": {
        "id": "view-in-github",
        "colab_type": "text"
      },
      "source": [
        "<a href=\"https://colab.research.google.com/github/lanlooker/Looker-Tutorials/blob/main/01_Transfer_All_Schedules.ipynb\" target=\"_parent\"><img src=\"https://colab.research.google.com/assets/colab-badge.svg\" alt=\"Open In Colab\"/></a>"
      ]
    },
    {
      "cell_type": "markdown",
      "metadata": {
        "id": "8hWPOx14cixx"
      },
      "source": [
        "**Purpose**: This script transfers all schedules of a user to a different user. The script may come in handy when a user leaves an organization, and Looker admins have to re-assign all of their existing schedules to a new owner. \n",
        "\n",
        "Please click \"Open in Colab\" to run the script as a one-off-time task. You can also download the file as a .py file to run inside a server (refer to [this page ](https://github.com/looker-open-source/sdk-codegen/blob/main/README.md#configuring-lookerini-or-env\n",
        ") to learn about the init file) \n",
        "\n",
        "**How to run as a one-off-time task in Google Colab**: \n",
        "1. Edit your client ID and secret key in the first cell \n",
        "2. Run the second cell to call the function `update_owner('current_owner@looker.com', 'new_owner@looker.com')`\n",
        "\n",
        "**Note**: The script is out of scope for Looker chat support. For questions and comments, please post in Looker Community. \n",
        "\n"
      ]
    },
    {
      "cell_type": "code",
      "metadata": {
        "id": "OespzMFuZsYO"
      },
      "source": [
        "# Install Looker SDK\n",
        "!pip install looker_sdk\n",
        "import looker_sdk\n",
        "import os\n",
        "\n",
        "# Login \n",
        "os.environ['LOOKERSDK_BASE_URL'] = 'XXX'\n",
        "os.environ['LOOKERSDK_CLIENT_ID'] = 'YYY'\n",
        "os.environ['LOOKERSDK_CLIENT_SECRET'] = 'ZZZ'\n",
        "\n",
        "#Initialize the SDK\n",
        "sdk = looker_sdk.init31()  # or init40() for v4.0 API \n",
        "\n",
        "# Return the user id of by looking up email\n",
        "def find_user_id(email: str):\n",
        "  user_id = sdk.search_users(email=email)\n",
        "  if len(user_id) == 0:\n",
        "    return 'There is no user associated with this email'\n",
        "  else:\n",
        "    return user_id[0]['id']\n",
        "  \n",
        "# Return all schedules of a particular user id\n",
        "def find_schedules(user_id: int):\n",
        "  result = {}\n",
        "  schedule_plans = sdk.all_scheduled_plans(user_id=user_id)\n",
        "  for i in schedule_plans:\n",
        "    result[i['name']] = i['id']\n",
        "  return result\n",
        "\n",
        "# Transfer all schedules of a user to a new user.  \n",
        "# If additional condition is needed, please adjust in the loop for sdk.update_schedule_plan() \n",
        "\n",
        "def update_owner(current_owner_email: str, new_owner_email: str):\n",
        "  current_owner_id = find_user_id(current_owner_email)\n",
        "  new_owner_id = find_user_id(new_owner_email)  \n",
        "  \n",
        "  if type(new_owner_id) != int and type(new_owner_id) != int:\n",
        "    return \"The email addresses for both the current owner and the new owner are not associatd with any Looker user id\"\n",
        "\n",
        "  elif type(current_owner_id) != int: \n",
        "    return \"The email address for the current owner is not associated with any Looker user id\"\n",
        "\n",
        "  elif type(new_owner_id) != int:\n",
        "    return \"The email address for the new owner is not associated with any Looker user id\"\n",
        "\n",
        "  else: \n",
        "    body = {}\n",
        "    body['user_id'] = new_owner_id\n",
        "    find = find_schedules(current_owner_id) \n",
        "    for i in find.values(): \n",
        "        sdk.update_scheduled_plan(i,body)\n",
        "\n",
        "    if find == find_schedules(new_owner_id) and find_schedules(current_owner_id) == {}: \n",
        "\n",
        "      result = \"Successfully transfer the following schedules from \" + current_owner_email + \" to \" + new_owner_email\n",
        "      print(result)\n",
        "      for i in find: \n",
        "        print(i)\n",
        "      return None\n",
        "      \n",
        "    else: \n",
        "      return \"Something went wrong, please check if email is correct or if the user has any schedules.\""
      ],
      "execution_count": null,
      "outputs": []
    },
    {
      "cell_type": "code",
      "metadata": {
        "id": "e7JG2Iv8ai_-"
      },
      "source": [
        "# Uncomment the line and make changes to the parameter:\n",
        "# update_owner('current_owner@looker.com', 'new_owner@looker.com')"
      ],
      "execution_count": null,
      "outputs": []
    }
  ]
}