{
  "nbformat": 4,
  "nbformat_minor": 0,
  "metadata": {
    "colab": {
      "name": "Looker_API_Tutorial_External",
      "provenance": [],
      "toc_visible": true,
      "authorship_tag": "ABX9TyNqI6SOYV66subiDEioXwNA",
      "include_colab_link": true
    },
    "kernelspec": {
      "name": "python3",
      "display_name": "Python 3"
    }
  },
  "cells": [
    {
      "cell_type": "markdown",
      "metadata": {
        "id": "view-in-github",
        "colab_type": "text"
      },
      "source": [
        "<a href=\"https://colab.research.google.com/github/lanlooker/Looker-Tutorials/blob/main/Looker_API_Tutorial_External.ipynb\" target=\"_parent\"><img src=\"https://colab.research.google.com/assets/colab-badge.svg\" alt=\"Open In Colab\"/></a>"
      ]
    },
    {
      "cell_type": "markdown",
      "metadata": {
        "id": "RKH2GYOu8VDv"
      },
      "source": [
        "# **Looker API 101: An Introduction to making Looker API calls with Python**\n",
        "---\n",
        "\n",
        "Draft - Last Updated: Jan 5, 2021\n",
        "\n",
        "- **Introduction**: This tutorial demonstrates how to make Looker API calls using Python. The tutorial assumes no prior knowledge of Python and [Google Colab](https://colab.sandbox.google.com/notebooks/intro.ipynb). Feel free to make a copy to test on your own. \n",
        "\n",
        "- **Why Google Colab**: Google Colab allows us to run python in a browser, and we do not need to set up a local testing environment. The tool also comes with:  \n",
        " - Text cells: to write notes (such as this one you are reading)\n",
        " - Code cells: to execute a small chunk of code, allowing quick iteration of testing and fixing codes\n",
        "\n",
        "- **Recommended workflow**: \n",
        " - **API** requires minimal experience with either Python, curl, or a third-party API management tool. This tutorial will focus on making HTTP requests with Python\n",
        " - **SDK** requires familiarity with programming languages. For Python, the example SDK codebase also requires an understanding several Python libraries to troubleshoot issues or write a customized script.\n",
        "\n",
        "- **Feedback/Questions**: lantrann@google.com"
      ]
    },
    {
      "cell_type": "markdown",
      "metadata": {
        "id": "Sg2Mbgko_nvs"
      },
      "source": [
        "# **Make API calls using the `requests` library**\n",
        "---\n",
        "\n",
        "- We use HTTP requests to make API calls. `requests` is a popular Python library used for managing HTTP requests. A library in Python is equivalent to a Chrome extension, we need to `import` a library into python or install an extension into Chrome in order to use them.  \n",
        "\n",
        "- Another approach to make API calls via HTTP requests is to use `curl` in the command line. [Read about curl here](https://app.getguru.com/card/Xi6joaRi/What-is-a-cURL-API-call-and-what-does-it-look-like)\n",
        "\n",
        "- Different types of HTTP Methods commonly used in Looker:\n",
        " - POST: Create (i.e.: create a new look) \n",
        " - GET: Read (i.e.: get info about a look)\n",
        " - PATCH: Update (i.e.: update an existing look)\n",
        " - DELETE: Delete (i.e.: delete an existing look, or to logout)"
      ]
    },
    {
      "cell_type": "code",
      "metadata": {
        "id": "XtaEIStaXzBj"
      },
      "source": [
        "# Import the requests library to work with API\n",
        "import requests"
      ],
      "execution_count": null,
      "outputs": []
    },
    {
      "cell_type": "markdown",
      "metadata": {
        "id": "qierunw5JiyW"
      },
      "source": [
        "#**Anatomy of a `requests` call**\n",
        "---\n",
        "Since we will be using the `requests` library heavily for this tutorial, an understanding of its functionality and feature will be helpful in making new calls and fixing errors. [Read this post to understand how to construct an url with requests](https://requests.readthedocs.io/en/master/user/quickstart/#passing-parameters-in-urls)."
      ]
    },
    {
      "cell_type": "code",
      "metadata": {
        "id": "gQfV9hUF77Qj"
      },
      "source": [
        "# Example: Make a GET request to `http://www.google.com` and return the response in string\n",
        "\n",
        "response = requests.get('http://www.google.com')\n",
        "response.text"
      ],
      "execution_count": null,
      "outputs": []
    },
    {
      "cell_type": "markdown",
      "metadata": {
        "id": "m7bvFqC7e5HM"
      },
      "source": [
        "**Exercise:** Make a GET request to your instance's API interactive doc (please check [this link](https://docs.looker.com/reference/api-and-integration/api-getting-started#looker_api_path_and_port) to confirm API port and path). If the call returns 200, it means our site is still alive and we get the correct address to work with API. "
      ]
    },
    {
      "cell_type": "code",
      "metadata": {
        "id": "bpBxULWbYJEh",
        "colab": {
          "base_uri": "https://localhost:8080/"
        },
        "outputId": "27135202-db65-4645-c3ea-b02b7254efda"
      },
      "source": [
        "# Check if site is still alive \n",
        "\n",
        "url = 'https://<instance_name>.api.looker.com'\n",
        "response = requests.get(url)\n",
        "response.status_code # or use `print(response)` to print the status code "
      ],
      "execution_count": null,
      "outputs": [
        {
          "output_type": "execute_result",
          "data": {
            "text/plain": [
              "200"
            ]
          },
          "metadata": {
            "tags": []
          },
          "execution_count": 3
        }
      ]
    },
    {
      "cell_type": "markdown",
      "metadata": {
        "id": "RViq7TFrEb9d"
      },
      "source": [
        "# **API Authentication: How to login using the API**\n",
        "---\n",
        "\n",
        "[Read the full article here](https://app.getguru.com/card/eTkKgngT/API-Authentication). To summarize: \n",
        "\n",
        "- We use the API credential of an user and make a `post` request to Looker to receive an `access_token`. We then include the `access_token` in each and every API calls. \n",
        "\n",
        "- `access_token` is expired after one hour (currently non-changeable in Looker), and we need to renew the token in order to continue making API calls."
      ]
    },
    {
      "cell_type": "markdown",
      "metadata": {
        "id": "bc59g3PdwvM-"
      },
      "source": [
        "# **`POST /login`: Acquire access_token using API credentials**\n",
        "\n",
        "The following code is an adaptation of Looker's Ruby SDK  example using curl into the `requests` library in Python to work with API -- [link here](https://github.com/looker/looker-sdk-ruby/blob/master/authentication.md). I use [this website](https://curl.trillworks.com/#python) to make the adaptation."
      ]
    },
    {
      "cell_type": "code",
      "metadata": {
        "colab": {
          "base_uri": "https://localhost:8080/"
        },
        "id": "O32whXzAZOjo",
        "outputId": "f9a3b8e9-0e19-4b55-ca3f-8e59713ed808"
      },
      "source": [
        "# Instance URL \n",
        "url = 'https://<instance_name>.api.looker.com'\n",
        "\n",
        "# Make a dictionary called `credential` and store your credentials\n",
        "# Later we use `data=` to pass the dictionary into the URL to make the call.\n",
        "# Please generate your API credential or ask the admin of your instance \n",
        "\n",
        "credential = {\n",
        "  'client_id': '123',\n",
        "  'client_secret': 'XYZ'\n",
        "}\n",
        "\n",
        "call = requests.post(url, data=credential) # pass the credential into the call \n",
        "access_token = call.json() # return the result of call() in json   \n",
        "print(access_token) # to confirm the return body"
      ],
      "execution_count": null,
      "outputs": [
        {
          "output_type": "stream",
          "text": [
            "{'access_token': 'PfbybYdJ9zc8Nh2Yfc8WxVpqKdKdndfJ2FKQMJSQ', 'token_type': 'Bearer', 'expires_in': 3600}\n"
          ],
          "name": "stdout"
        }
      ]
    },
    {
      "cell_type": "markdown",
      "metadata": {
        "id": "pBa7vYMuB9Zv"
      },
      "source": [
        "# **`GET /user`: Login using access_token**\n",
        "\n",
        "- HTTP headers are additional information with an HTTP request ([doc](https://developer.mozilla.org/en-US/docs/Web/HTTP/Headers)). We need to pass an `access_token` to each and every API calls.\n",
        "\n",
        "- The access_token is expired every hour (3600 seconds), and we need to acquire a new access_token to continue."
      ]
    },
    {
      "cell_type": "code",
      "metadata": {
        "colab": {
          "base_uri": "https://localhost:8080/"
        },
        "id": "9uf25htjhE_b",
        "outputId": "be34f81a-edfd-4373-97da-729179d63f1a"
      },
      "source": [
        "# Pass the access_token and log in as user. \n",
        "# How do I construct the header? I read the SDK doc and adjust the code \n",
        "\n",
        "# Using API 3.1 /user \n",
        "url = 'https://<instance_name>.api.looker.com'\n",
        "\n",
        "headers = {\n",
        "    'Authorization': 'token ' +  access_token['access_token'],\n",
        "}\n",
        "\n",
        "response = requests.get(url, headers=headers) # pass the headers using `headers=`\n",
        "response.status_code"
      ],
      "execution_count": null,
      "outputs": [
        {
          "output_type": "execute_result",
          "data": {
            "text/plain": [
              "200"
            ]
          },
          "metadata": {
            "tags": []
          },
          "execution_count": 5
        }
      ]
    },
    {
      "cell_type": "markdown",
      "metadata": {
        "id": "yVeKsC2JHt_0"
      },
      "source": [
        "# **`DELETE /logout`: Logout by deleting the access_token**"
      ]
    },
    {
      "cell_type": "code",
      "metadata": {
        "id": "eWRL3QLy78iK"
      },
      "source": [
        "# Log out (invalidate the access token) by using DELETE\n",
        "\n",
        "# response = requests.delete('https://<instance_name>.api.looker.com/logout', headers=headers)\n",
        "# response.status_code"
      ],
      "execution_count": null,
      "outputs": []
    },
    {
      "cell_type": "markdown",
      "metadata": {
        "id": "Qrxd3aot0aUb"
      },
      "source": [
        "# **Exercise: Making Simple API calls**\n",
        "---\n"
      ]
    },
    {
      "cell_type": "markdown",
      "metadata": {
        "id": "C1faeRocXrOD"
      },
      "source": [
        "**Optional**: Use `pprint` for better readability, `pprint` is a Python library that formats json response with several configurations (indent, width, etc.) Use with caution in Google Collab because the keys will be sorted alphabetically whereas the return response in Looker's interactive docs is not sorted. Suggest to use `pprint` with one or two keys inside the body, and not the whole body. \n",
        "\n"
      ]
    },
    {
      "cell_type": "code",
      "metadata": {
        "id": "GzHq6PZ0X07E"
      },
      "source": [
        "import pprint\n",
        "pp = pprint.PrettyPrinter(indent=1)\n",
        "#pp = pprint.PrettyPrinter(sort_dicts=False) "
      ],
      "execution_count": null,
      "outputs": []
    },
    {
      "cell_type": "markdown",
      "metadata": {
        "id": "6c2Im-eXfv9y"
      },
      "source": [
        "**Exercise 1**: Log in using your own credential"
      ]
    },
    {
      "cell_type": "code",
      "metadata": {
        "id": "eRBBBTaQge8V"
      },
      "source": [
        "### Put your code here "
      ],
      "execution_count": null,
      "outputs": []
    },
    {
      "cell_type": "markdown",
      "metadata": {
        "id": "9dN7bISIgfR9"
      },
      "source": [
        "**Exercise 2**: Once you can log in successfully, print your `frist_name` and nothing else, using `GET user` [Link to Doc](https://docs.looker.com/reference/api-and-integration/api-reference/v3.1/user#get_current_user). Hint: You probably need to look at json object and how to access key-value. If possible, use `pprint` for better readability. "
      ]
    },
    {
      "cell_type": "code",
      "metadata": {
        "id": "UGjWVDc7gOJ_"
      },
      "source": [
        "### Put your code here "
      ],
      "execution_count": null,
      "outputs": []
    }
  ]
}
