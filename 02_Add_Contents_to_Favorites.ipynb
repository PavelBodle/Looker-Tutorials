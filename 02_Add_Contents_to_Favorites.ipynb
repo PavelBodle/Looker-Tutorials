{
  "nbformat": 4,
  "nbformat_minor": 0,
  "metadata": {
    "colab": {
      "name": "02_Add_Contents_to_Favorites.ipynb",
      "provenance": [],
      "collapsed_sections": [],
      "toc_visible": true,
      "include_colab_link": true
    },
    "kernelspec": {
      "display_name": "Python 3",
      "name": "python3"
    }
  },
  "cells": [
    {
      "cell_type": "markdown",
      "metadata": {
        "id": "view-in-github",
        "colab_type": "text"
      },
      "source": [
        "<a href=\"https://colab.research.google.com/github/lanlooker/Looker-Tutorials/blob/main/02_Add_Contents_to_Favorites.ipynb\" target=\"_parent\"><img src=\"https://colab.research.google.com/assets/colab-badge.svg\" alt=\"Open In Colab\"/></a>"
      ]
    },
    {
      "cell_type": "markdown",
      "metadata": {
        "id": "Alt4MxZ1QuRj"
      },
      "source": [
        "**Purpose**: This script adds a board or a dashboard to \"Favorites\" for a list of users, which may help users quickly discover useful content. \n",
        "\n",
        "Please click \"Open in Colab\" to run the script as a one-off task. You can also download the file as a .py file to run inside a server (refer to [this page ](https://github.com/looker-open-source/sdk-codegen/blob/main/README.md#configuring-lookerini-or-env\n",
        ") to learn about the init file) \n",
        "\n",
        "**How to run as a one-off task in Google Colab**: \n",
        "1. Edit your client ID and secret key in the first cell \n",
        "2. Run the remaining cells to call functions. \n",
        "\n",
        "**Note**: The script is out of scope for Looker chat support. For questions and comments, please post in Looker Community. \n"
      ]
    },
    {
      "cell_type": "code",
      "metadata": {
        "id": "y883XC0TpzRa"
      },
      "source": [
        "# Install Looker SDK\n",
        "!pip install looker_sdk\n",
        "import looker_sdk\n",
        "import os\n",
        "\n",
        "# Environmental variables to login \n",
        "os.environ['LOOKERSDK_BASE_URL'] = 'XXX'\n",
        "os.environ['LOOKERSDK_CLIENT_ID'] = 'YYY'\n",
        "os.environ['LOOKERSDK_CLIENT_SECRET'] = 'ZZZ'\n",
        "\n",
        "sdk = looker_sdk.init40() "
      ],
      "execution_count": null,
      "outputs": []
    },
    {
      "cell_type": "markdown",
      "metadata": {
        "id": "NXOTPTr4q0s3"
      },
      "source": [
        "# Add Boards to Favorites"
      ]
    },
    {
      "cell_type": "code",
      "metadata": {
        "id": "yQk9RXssbJrj"
      },
      "source": [
        "def add_boards_to_users(board_id: int, users_id: list):\n",
        "\n",
        "  \"\"\" Add a specific board to the \"Favorite\" contents for a list of user\n",
        "  \n",
        "  Args: \n",
        "    board_id (int): id of a Looker board (https://company.looker.com/boards/id)\n",
        "    users_id (list): a list of users in the form of a native Python list\n",
        "  \n",
        "  Returns: \"Successfully added!\" (str)\n",
        "  \n",
        "  Raises: N/A (does not explicitly raise an exception); Looker SDK will raise an error.\n",
        "  \"\"\"\n",
        " \n",
        "  \"\"\" This statement is using sdk.board() to retrieve content_metadata_id, \n",
        "  which is used as a parameter for sdk.create_content_favorite()\"\"\" \n",
        "  content_metadata_id = sdk.board(board_id=board_id)['content_metadata_id'] \n",
        "\n",
        "  \"\"\"An admin can not update the list of favorite contents for users, \n",
        "  `sdk.auth.login_user()` and `sdk.auth.logout()` are called to sudo as each user to call `create_content_favorite()\"\"\"\n",
        "  for i in users_id: \n",
        "    sdk.auth.login_user(i)\n",
        "    params = {}\n",
        "    params[\"user_id\"] = i \n",
        "    params[\"content_metadata_id\"] = content_metadata_id\n",
        "    sdk.create_content_favorite(params)\n",
        "    sdk.auth.logout() \n",
        "\n",
        "  return (\"Successfully added!\")\n",
        "\n",
        "\n",
        "# You can either change the parameter directly, or upload files to Google Colab and use open() and read() to read data from files\n",
        "add_boards_to_users(board_id = 1, users_id = [])"
      ],
      "execution_count": null,
      "outputs": []
    },
    {
      "cell_type": "markdown",
      "metadata": {
        "id": "bq5XvtMCqsZM"
      },
      "source": [
        "## Add Dashboards to Favorites"
      ]
    },
    {
      "cell_type": "code",
      "metadata": {
        "id": "J_jnxPTGpofH"
      },
      "source": [
        "def add_dashboards_to_users(dashboard_id: str, users_id: list):\n",
        "\n",
        "  \"\"\" Add a specific dashboard to the list of favorite contents for a list of user\n",
        "  \n",
        "  Args: \n",
        "    dashboard_id (str): id of a Looker dashboard (https://company.looker.com/dashboards/id)\n",
        "    users_id (list): a list of users in the form of a native Python list\n",
        "  \n",
        "  Returns: \"Successfully added!\" (str)\n",
        "  \n",
        "  Raises: N/A (does not explicitly raise an exception); Looker SDK will raise an error.\n",
        "  \"\"\"\n",
        " \n",
        "  \"\"\" This statement is using sdk.dashboard() to retrieve content_metadata_id, \n",
        "  which is used as a parameter for sdk.create_content_favorite()\"\"\" \n",
        "  content_metadata_id = sdk.dashboard(dashboard_id=dashboard_id)['content_metadata_id'] \n",
        "\n",
        "  \"\"\"An admin can not update the list of favorite contents for users, \n",
        "  `sdk.auth.login_user()` and `sdk.auth.logout()` are called to sudo as each user to call `create_content_favorite()\"\"\"\n",
        "  for i in users_id: \n",
        "    sdk.auth.login_user(i)\n",
        "    params = {}\n",
        "    params[\"user_id\"] = i \n",
        "    params[\"content_metadata_id\"] = content_metadata_id\n",
        "    sdk.create_content_favorite(params)\n",
        "    sdk.auth.logout() \n",
        "\n",
        "  return (\"Successfully added!\")\n",
        "\n",
        "# You can either change the parameter directly, or upload files to Google Colab and use open() and read() to read data from files\n",
        "add_dashboards_to_users(dashboard_id = \"string\", users_id = [])"
      ],
      "execution_count": null,
      "outputs": []
    }
  ]
}