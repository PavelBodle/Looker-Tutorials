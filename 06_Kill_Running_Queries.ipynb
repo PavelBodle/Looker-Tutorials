{
  "nbformat": 4,
  "nbformat_minor": 0,
  "metadata": {
    "colab": {
      "name": "06_Kill_Running_Queries.ipynb",
      "provenance": [],
      "collapsed_sections": [],
      "toc_visible": true,
      "include_colab_link": true
    },
    "kernelspec": {
      "display_name": "Python 3",
      "name": "python3"
    }
  },
  "cells": [
    {
      "cell_type": "markdown",
      "metadata": {
        "id": "view-in-github",
        "colab_type": "text"
      },
      "source": [
        "<a href=\"https://colab.research.google.com/github/lanlooker/Looker-Tutorials/blob/main/06_Kill_Running_Queries.ipynb\" target=\"_parent\"><img src=\"https://colab.research.google.com/assets/colab-badge.svg\" alt=\"Open In Colab\"/></a>"
      ]
    },
    {
      "cell_type": "markdown",
      "metadata": {
        "id": "U9XdoaB6bKn_"
      },
      "source": [
        "**Purpose**: This script kills running queries in a Looker instance. Additional information can be passed into the two optional arguments 'user_id' and 'source' to selectively kill queries that meet the conditions.\n",
        "\n",
        "Please click \"Open in Colab\" to run the script as a one-off task. The script can be downloaded as a .py file to run inside a server (refer to [this page](https://github.com/looker-open-source/sdk-codegen/blob/main/README.md#configuring-lookerini-or-env\n",
        ") to learn about `init` file) \n",
        "\n",
        "**How to run as a one-off task in Google Colab**: \n",
        "1. Provide client ID and secret key in the first cell, and run it\n",
        "2. Run the remaining cells to call functions. \n",
        "\n",
        "**Note**: The script is out of scope for Looker chat support. For questions and comments, please post in Looker Community. "
      ]
    },
    {
      "cell_type": "code",
      "metadata": {
        "id": "yQk9RXssbJrj"
      },
      "source": [
        "!pip install looker_sdk\n",
        "import looker_sdk\n",
        "import os\n",
        "\n",
        "os.environ['LOOKERSDK_BASE_URL'] = 'https://company.looker.com:19999'\n",
        "os.environ['LOOKERSDK_CLIENT_ID'] = 'foo'\n",
        "os.environ['LOOKERSDK_CLIENT_SECRET'] = 'bar'\n",
        "\n",
        "#Initialize the SDK\n",
        "sdk = looker_sdk.init40() "
      ],
      "execution_count": null,
      "outputs": []
    },
    {
      "cell_type": "code",
      "metadata": {
        "id": "a2Jxpfck6fEY"
      },
      "source": [
        "def kill_queries(user_id=None, source=None):\n",
        "\n",
        "  \"\"\"Kill all running queries in an instance.\n",
        "  \n",
        "  Args:\n",
        "  user_id(int): id of the user whose queries are to be killed \n",
        "  source(str): common values are 'merge_query', 'explore', 'dashboard', 'look', 'regenerator'  \n",
        "  \"\"\"\n",
        "\n",
        "  queries = sdk.all_running_queries()\n",
        "\n",
        "  if len(queries) == 0:\n",
        "    print('Currently, there is no running query in the instance')\n",
        "    \n",
        "  else:\n",
        "    for i in range(0, len(queries)):   \n",
        "        if queries[i]['source'] == source or queries[i]['user']['id'] == user_id: \n",
        "          sdk.kill_query(queries[i]['query_task_id'])\n",
        "          print('Killed query task id' + queries[i]['query_task_id'])\n",
        "\n",
        "        else:\n",
        "          print('Currently, there are no running queries that meet the conditions')"
      ],
      "execution_count": null,
      "outputs": []
    },
    {
      "cell_type": "code",
      "metadata": {
        "id": "-NKvix696im8"
      },
      "source": [
        "kill_queries(user_id=1, source='merge_query')"
      ],
      "execution_count": null,
      "outputs": []
    }
  ]
}