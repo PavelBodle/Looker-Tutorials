{
  "nbformat": 4,
  "nbformat_minor": 0,
  "metadata": {
    "colab": {
      "name": "03_Pause or Resume Schedules (using requests module)",
      "provenance": [],
      "toc_visible": true,
      "authorship_tag": "ABX9TyOLXMnxbJVj/EuwOEuKDsmo",
      "include_colab_link": true
    },
    "kernelspec": {
      "name": "python3",
      "display_name": "Python 3"
    }
  },
  "cells": [
    {
      "cell_type": "markdown",
      "metadata": {
        "id": "view-in-github",
        "colab_type": "text"
      },
      "source": [
        "<a href=\"https://colab.research.google.com/github/lanlooker/Looker-Tutorials/blob/main/03_Pause_or_Resume_Schedules_(using_requests_module).ipynb\" target=\"_parent\"><img src=\"https://colab.research.google.com/assets/colab-badge.svg\" alt=\"Open In Colab\"/></a>"
      ]
    },
    {
      "cell_type": "markdown",
      "metadata": {
        "id": "6ssOA_2TFpof"
      },
      "source": [
        "**Purpose**: This script pauses or resumes all schedules of a particular look using Looker API and Python's requests module. The same logic can be used to make changes to dashboards or lookml dashboards. \n",
        "\n",
        "Please click \"Open in Colab\" to run the script as a one-off task.  You can also download the file as a .py file to run inside a server (refer to [this page ](https://github.com/looker-open-source/sdk-codegen/blob/main/README.md#configuring-lookerini-or-env\n",
        ") to learn about the init file) \n",
        "\n",
        "The script is out of scope for Looker chat support. For questions and comments, please post in Looker Community. \n",
        "\n",
        "**How to run as a one-off task in Google Colab**: \n",
        "1. Edit your client ID and secret key in the first cell \n",
        "2. Run the second cell to load functions \n",
        "3. Update the parameter in the third cell to call the functions\n"
      ]
    },
    {
      "cell_type": "code",
      "metadata": {
        "id": "O32whXzAZOjo"
      },
      "source": [
        "instance = 'https://yourcompany.looker.com:19999' \n",
        "\n",
        "credential = {\n",
        "  'client_id': 'foo',\n",
        "  'client_secret': 'bar'    \n",
        "}"
      ],
      "execution_count": null,
      "outputs": []
    },
    {
      "cell_type": "code",
      "metadata": {
        "id": "vfMR9ptk3SJg"
      },
      "source": [
        "import requests\n",
        "import json\n",
        "\n",
        "def login(instance, credential):\n",
        "\n",
        "   \"\"\" Return an access token to be used in subsequent API calls \n",
        "   An access token is only valid for 60 minutes and can not be extended\"\"\"\n",
        "\n",
        "   instance = instance \n",
        "   credential = credential\n",
        "   access_token = requests.post(instance+'/login', data=credential).json() \n",
        "   headers = {'Authorization': 'token ' +  access_token['access_token']}\n",
        "   return headers\n",
        "\n",
        "\n",
        "def update_schedule(look_id = 321, enabled = True):\n",
        "\n",
        "  \"\"\" Pause a schedule plan (enabled = False) or resume a schedule plan (enabled = True) \n",
        "\n",
        "  Args: \n",
        "    look_id (int): id of a look (https://company.looker.com/boards/id)\n",
        "    enabled (boolean): set to \"True\" to resume schedule, and \"False\" to pause schedule\n",
        "  \n",
        "  Returns: \"Successfully updated all schedules for look id \" (str)\n",
        "  \n",
        "  Notes: Schedules with \"enabled = False\" will disappear from Admin > Schedules but its data \n",
        "  can be retrived in System Activity. Once schedules are resumed with \"enabled = True\", they \n",
        "  will appear in Admin > Schedules \n",
        "  \"\"\"\n",
        "   \n",
        "  headers = login(instance = instance, credential = credential)\n",
        "\n",
        "  \"\"\" Change to <schedule_plans/dashboard/> or <schedule_plans/lookml_dashboard> \n",
        "  to retrieve schedule_plan_id for these two contents \"\"\"\n",
        "  get_url = instance + '/api/4.0/scheduled_plans/look/' + str(look_id)\n",
        "  schedule_plans = requests.get(get_url,headers=headers).json()\n",
        "\n",
        "\n",
        "  \"\"\" Execute through loops for all schedule plans belonging to one Looker type (look or dashboards)\"\"\"\n",
        "  for i in range(0, len(schedule_plans)):\n",
        "    schedule_plan = schedule_plans[i]\n",
        "    schedule_plan['enabled'] = enabled\n",
        "    data = json.dumps(schedule_plan) \n",
        "    update_url = instance + '/scheduled_plans/' + str(schedule_plan['id'])\n",
        "    requests.patch(update_url, headers = headers, data = data)\n",
        "    \n",
        "  return \"Successfully updated all schedules for look id \" + str(look_id)"
      ],
      "execution_count": null,
      "outputs": []
    },
    {
      "cell_type": "code",
      "metadata": {
        "id": "OZPuUzkEF-Wp"
      },
      "source": [
        "# Put in look_id and change the enabled parameter \n",
        "update_schedule(look_id = 321, enabled = False)"
      ],
      "execution_count": null,
      "outputs": []
    }
  ]
}