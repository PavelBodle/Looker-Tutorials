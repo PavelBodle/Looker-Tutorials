{
  "nbformat": 4,
  "nbformat_minor": 0,
  "metadata": {
    "colab": {
      "name": "Add Contents to Favorite List.ipynb",
      "provenance": [],
      "collapsed_sections": [],
      "include_colab_link": true
    },
    "kernelspec": {
      "display_name": "Python 3",
      "name": "python3"
    }
  },
  "cells": [
    {
      "cell_type": "markdown",
      "metadata": {
        "id": "view-in-github",
        "colab_type": "text"
      },
      "source": [
        "<a href=\"https://colab.research.google.com/github/lanlooker/Looker-Tutorials/blob/main/Add_Content_to_Favorite_List_of_Users.ipynb\" target=\"_parent\"><img src=\"https://colab.research.google.com/assets/colab-badge.svg\" alt=\"Open In Colab\"/></a>"
      ]
    },
    {
      "cell_type": "markdown",
      "metadata": {
        "id": "Alt4MxZ1QuRj"
      },
      "source": [
        "**Purpose**: This script add contents (a Look, a Dashboard, or a Board) to the list of favorite contents for a list of users. The script may help users discover contents quicker and easier. The main function would be `add_boards_to_users(board_id: int, users: list).` \n",
        "\n",
        "**Note**: This script can be run directly in Google Colab or any similar Jupyter notebooks as an one-time-off task. The script is out of scope for Looker chat support, please direct all of your questions and comments to Lan.\n",
        "\n",
        "**How to use**:\n",
        "1. Edit your client ID and secret in the first cellun the first cell\n",
        "2. Run the second cell to call the function"
      ]
    },
    {
      "cell_type": "code",
      "metadata": {
        "id": "yQk9RXssbJrj"
      },
      "source": [
        "# Install Looker SDK\n",
        "!pip install looker_sdk\n",
        "import looker_sdk\n",
        "import os\n",
        "import json\n",
        "\n",
        "# Environment to log in \n",
        "os.environ['LOOKERSDK_BASE_URL'] = 'XXX'\n",
        "os.environ['LOOKERSDK_CLIENT_ID'] = 'YYY'\n",
        "os.environ['LOOKERSDK_CLIENT_SECRET'] = 'ZZZ'\n",
        "\n",
        "# Initialize the SDK\n",
        "sdk = looker_sdk.init40()  # or init40() for v4.0 API \n",
        "my_user = sdk.me() #.me() = method\n",
        "print(my_user[\"first_name\"] + \" has logged in\")\n",
        "\n",
        "\n",
        "# Define the function\n",
        "\n",
        "def add_boards_to_users(board_id: int, users: list):\n",
        "\n",
        "  \"\"\"This function is using sdk.board() to retrieve content_metadata_id, which is used to as part of a parameter for sdk.create_content_favorite() \n",
        "  To add a Look and a Dashboard to favorite list of users, you can use sdk.look() or sdk.dashboard(), and use the same flow of execution \"\"\" \n",
        "  content_metadata_id = sdk.board(board_id=board_id)['content_metadata_id'] \n",
        "\n",
        "  \"\"\" An admin can not update a favorite list of an user, so we need to sudo as these users\"\"\"\n",
        "  for i in users: \n",
        "    sdk.auth.login_user(i)\n",
        "    params = {}\n",
        "    params[\"user_id\"] = i \n",
        "    params[\"content_metadata_id\"] = content_metadata_id\n",
        "    sdk.create_content_favorite(params)\n",
        "    sdk.auth.logout() \n",
        "\n",
        "  \"\"\" Note: he script will run into error if the board has already been added to the user \"\"\" \n",
        "  return (\"Successfully added!\")"
      ],
      "execution_count": null,
      "outputs": []
    },
    {
      "cell_type": "code",
      "metadata": {
        "id": "usHFYJFiAZa_"
      },
      "source": [
        "# Edit the data here. If the list of user is large, you can upload files to Google Colab and use the read() function \n",
        "users_lst = [1, 2] \n",
        "board_id = 1\n",
        "\n",
        "# Call the function \n",
        "add_boards_to_users(board_id= board_id, users= users_lst)"
      ],
      "execution_count": null,
      "outputs": []
    }
  ]
}